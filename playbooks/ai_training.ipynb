{
 "cells": [
  {
   "cell_type": "code",
   "execution_count": 4,
   "metadata": {},
   "outputs": [],
   "source": [
    "import sys\n",
    "import os\n",
    "import time\n",
    "import pickle\n",
    "\n",
    "import pandas as pd\n",
    "import numpy as np\n",
    "\n",
    "import tensorflow as tf\n",
    "from tensorflow.keras import layers\n",
    "\n",
    "from sklearn.preprocessing import MinMaxScaler\n",
    "from sklearn.metrics import roc_auc_score, confusion_matrix, accuracy_score\n",
    "\n",
    "src_path = os.path.abspath(os.path.join(os.getcwd(), '..', 'src'))\n",
    "if src_path not in sys.path:\n",
    "    sys.path.append(src_path)\n",
    "\n",
    "from flow_features import *\n",
    "from flow_analysis import *\n",
    "\n",
    "# test_path = os.path.abspath(os.path.join(os.getcwd(), '..', 'flows', 'train', 'malicious', 'Neris'))\n",
    "# test = pd.read_parquet(test_path)\n",
    "# test"
   ]
  },
  {
   "cell_type": "code",
   "execution_count": 5,
   "metadata": {},
   "outputs": [
    {
     "name": "stdout",
     "output_type": "stream",
     "text": [
      "c:\\Users\\Wind\\net-watcher\\Scripts\\python.exe\n",
      "C:\\Users\\Wind\\AppData\\Local\\Programs\\Python\\Python311\\python.exe\n",
      "C:\\Users\\Wind\\AppData\\Local\\Microsoft\\WindowsApps\\python.exe\n"
     ]
    }
   ],
   "source": [
    "!where python"
   ]
  },
  {
   "cell_type": "code",
   "execution_count": 11,
   "metadata": {},
   "outputs": [
    {
     "name": "stderr",
     "output_type": "stream",
     "text": [
      "c:\\Users\\Wind\\net-watcher\\Lib\\site-packages\\keras\\src\\layers\\core\\dense.py:87: UserWarning: Do not pass an `input_shape`/`input_dim` argument to a layer. When using Sequential models, prefer using an `Input(shape)` object as the first layer in the model instead.\n",
      "  super().__init__(activity_regularizer=activity_regularizer, **kwargs)\n"
     ]
    },
    {
     "name": "stdout",
     "output_type": "stream",
     "text": [
      "Epoch 1/5\n",
      "3959/3959 ━━━━━━━━━━━━━━━━━━━━ 1:37:49 1s/step - AUC: 0.4417 - Precision: 0.0000e+00 - Recall: 0.0000e+00 - accuracy: 0.6250 - loss: 0.687 ━━━━━━━━━━━━━━━━━━━━ 4s 1ms/step - AUC: 0.7357 - Precision: 0.0000e+00 - Recall: 0.0000e+00 - accuracy: 0.7223 - loss: 0.6455    ━━━━━━━━━━━━━━━━━━━━ 4s 1ms/step - AUC: 0.7831 - Precision: 0.3159 - Recall: 0.0433 - accuracy: 0.7353 - loss: 0.5960        ━━━━━━━━━━━━━━━━━━━━ 4s 1ms/step - AUC: 0.8160 - Precision: 0.5366 - Recall: 0.1344 - accuracy: 0.7613 - loss: 0.549 ━━━━━━━━━━━━━━━━━━━━ 4s 1ms/step - AUC: 0.8386 - Precision: 0.6480 - Recall: 0.2108 - accuracy: 0.7827 - loss: 0.509 ━━━━━━━━━━━━━━━━━━━━ 4s 1ms/step - AUC: 0.8550 - Precision: 0.7099 - Recall: 0.2718 - accuracy: 0.7989 - loss: 0.477 ━━━━━━━━━━━━━━━━━━━━ 4s 1ms/step - AUC: 0.8680 - Precision: 0.7529 - Recall: 0.3227 - accuracy: 0.8126 - loss: 0.450 ━━━━━━━━━━━━━━━━━━━━ 4s 1ms/step - AUC: 0.8785 - Precision: 0.7846 - Recall: 0.3648 - accuracy: 0.8240 - loss: 0.427 ━━━━━━━━━━━━━━━━━━━━ 4s 1ms/step - AUC: 0.8870 - Precision: 0.8085 - Recall: 0.3997 - accuracy: 0.8336 - loss: 0.407 ━━━━━━━━━━━━━━━━━━━━ 4s 1ms/step - AUC: 0.8937 - Precision: 0.8261 - Recall: 0.4278 - accuracy: 0.8413 - loss: 0.392 ━━━━━━━━━━━━━━━━━━━━ 4s 1ms/step - AUC: 0.8994 - Precision: 0.8402 - Recall: 0.4522 - accuracy: 0.8479 - loss: 0.378 ━━━━━━━━━━━━━━━━━━━━ 4s 1ms/step - AUC: 0.9041 - Precision: 0.8516 - Recall: 0.4731 - accuracy: 0.8536 - loss: 0.366 ━━━━━━━━━━━━━━━━━━━━ 4s 1ms/step - AUC: 0.9083 - Precision: 0.8614 - Recall: 0.4920 - accuracy: 0.8587 - loss: 0.355 ━━━━━━━━━━━━━━━━━━━━ 3s 1ms/step - AUC: 0.9122 - Precision: 0.8701 - Recall: 0.5096 - accuracy: 0.8634 - loss: 0.345 ━━━━━━━━━━━━━━━━━━━━ 3s 1ms/step - AUC: 0.9156 - Precision: 0.8775 - Recall: 0.5251 - accuracy: 0.8676 - loss: 0.336 ━━━━━━━━━━━━━━━━━━━━ 3s 1ms/step - AUC: 0.9187 - Precision: 0.8838 - Recall: 0.5391 - accuracy: 0.8713 - loss: 0.327 ━━━━━━━━━━━━━━━━━━━━ 3s 1ms/step - AUC: 0.9213 - Precision: 0.8888 - Recall: 0.5511 - accuracy: 0.8745 - loss: 0.320 ━━━━━━━━━━━━━━━━━━━━ 3s 1ms/step - AUC: 0.9237 - Precision: 0.8933 - Recall: 0.5623 - accuracy: 0.8774 - loss: 0.314 ━━━━━━━━━━━━━━━━━━━━ 3s 1ms/step - AUC: 0.9259 - Precision: 0.8972 - Recall: 0.5723 - accuracy: 0.8801 - loss: 0.308 ━━━━━━━━━━━━━━━━━━━━ 3s 1ms/step - AUC: 0.9281 - Precision: 0.",
      "━━━━━━━━━━━━━━━━━━━━ 1s 1ms/step - AUC: 0.9990 - Precision: 0.9686 - Recall: 0.9775 - accuracy: 0.9857 - loss: 0.032 ━━━━━━━━━━━━━━━━━━━━ 1s 1ms/step - AUC: 0.9990 - Precision: 0.9687 - Recall: 0.9775 - accuracy: 0.9857 - loss: 0.032 ━━━━━━━━━━━━━━━━━━━━ 1s 1ms/step - AUC: 0.9990 - Precision: 0.9687 - Recall: 0.9775 - accuracy: 0.9857 - loss: 0.032 ━━━━━━━━━━━━━━━━━━━━ 1s 1ms/step - AUC: 0.9990 - Precision: 0.9687 - Recall: 0.9775 - accuracy: 0.9857 - loss: 0.032 ━━━━━━━━━━━━━━━━━━━━ 1s 1ms/step - AUC: 0.9990 - Precision: 0.9687 - Recall: 0.9776 - accuracy: 0.9857 - loss: 0.032 ━━━━━━━━━━━━━━━━━━━━ 1s 1ms/step - AUC: 0.9990 - Precision: 0.9688 - Recall: 0.9776 - accuracy: 0.9857 - loss: 0.032 ━━━━━━━━━━━━━━━━━━━━ 1s 1ms/step - AUC: 0.9990 - Precision: 0.9688 - Recall: 0.9776 - accuracy: 0.9857 - loss: 0.032 ━━━━━━━━━━━━━━━━━━━━ 1s 1ms/step - AUC: 0.9990 - Precision: 0.9688 - Recall: 0.9777 - accuracy: 0.9858 - loss: 0.032 ━━━━━━━━━━━━━━━━━━━━ 1s 1ms/step - AUC: 0.9990 - Precision: 0.9688 - Recall: 0.9777 - accuracy: 0.9858 - loss: 0.032 ━━━━━━━━━━━━━━━━━━━━ 0s 1ms/step - AUC: 0.9990 - Precision: 0.9688 - Recall: 0.9777 - accuracy: 0.9858 - loss: 0.032 ━━━━━━━━━━━━━━━━━━━━ 0s 1ms/step - AUC: 0.9990 - Precision: 0.9689 - Recall: 0.9778 - accuracy: 0.9858 - loss: 0.032 ━━━━━━━━━━━━━━━━━━━━ 0s 1ms/step - AUC: 0.9990 - Precision: 0.9689 - Recall: 0.9778 - accuracy: 0.9858 - loss: 0.032 ━━━━━━━━━━━━━━━━━━━━ 0s 1ms/step - AUC: 0.9990 - Precision: 0.9689 - Recall: 0.9778 - accuracy: 0.9858 - loss: 0.032 ━━━━━━━━━━━━━━━━━━━━ 0s 1ms/step - AUC: 0.9990 - Precision: 0.9689 - Recall: 0.9778 - accuracy: 0.9858 - loss: 0.032 ━━━━━━━━━━━━━━━━━━━━ 0s 1ms/step - AUC: 0.9990 - Precision: 0.9689 - Recall: 0.9779 - accuracy: 0.9858 - loss: 0.032 ━━━━━━━━━━━━━━━━━━━━ 0s 1ms/step - AUC: 0.9990 - Precision: 0.9689 - Recall: 0.9779 - accuracy: 0.9859 - loss: 0.032 ━━━━━━━━━━━━━━━━━━━━ 0s 1ms/step - AUC: 0.9990 - Precision: 0.9690 - Recall: 0.9779 - accuracy: 0.9859 - loss: 0.032 ━━━━━━━━━━━━━━━━━━━━ 0s 1ms/step - AUC: 0.9990 - Precision: 0.9690 - Recall: 0.9780 - accuracy: 0.9859 - loss: 0.032 ━━━━━━━━━━━━━━━━━━━━ 0s 1ms/step - AUC: 0.9990 - Precision: 0.9690 - Recall: 0.9780 - accuracy: 0.9859 - loss: 0.032 ━━━━━━━━━━━━━━━━━━━━ 0s 1ms/step - AUC: 0.9990 - Precision: 0.9690 - Recall: 0.9780 - accuracy: 0.9859 - loss: 0.032 ━━━━━━━━━━━━━━━━━━━━ 0s 1ms/step - AUC: 0.9990 - Precision: 0.9690 - Recall: 0.9780 - accuracy: 0.9859 - loss: 0.032 ━━━━━━━━━━━━━━━━━━━━ 0s 1ms/step - AUC: 0.9990 - Precision: 0.9690 - Recall: 0.9781 - accuracy: 0.9859 - loss: 0.032 ━━━━━━━━━━━━━━━━━━━━ 0s 1ms/step - AUC: 0.9990 - Precision: 0.9691 - Recall: 0.9781 - accuracy: 0.9859 - loss: 0.032 ━━━━━━━━━━━━━━━━━━━━ 0s 1ms/step - AUC: 0.9990 - Precision: 0.9691 - Recall: 0.9781 - accuracy: 0.9859 - loss: 0.032 ━━━━━━━━━━━━━━━━━━━━ 0s 1ms/step - AUC: 0.9990 - Precision: 0.9691 - Recall: 0.9781 - accuracy: 0.9859 - loss: 0.032 ━━━━━━━━━━━━━━━━━━━━ 0s 1ms/step - AUC: 0.9990 - Precision: 0.9691 - Recall: 0.9781 - accuracy: 0.9860 - loss: 0.032 ━━━━━━━━━━━━━━━━━━━━ 0s 1ms/step - AUC: 0.9990 - Precision: 0.9691 - Recall: 0.9781 - accuracy: 0.9860 - loss: 0.032 ━━━━━━━━━━━━━━━━━━━━ 0s 1ms/step - AUC: 0.9990 - Precision: 0.9691 - Recall: 0.9782 - accuracy: 0.9860 - loss: 0.032 ━━━━━━━━━━━━━━━━━━━━ 0s 1ms/step - AUC: 0.9990 - Precision: 0.9692 - Recall: 0.9782 - accuracy: 0.9860 - loss: 0.032 ━━━━━━━━━━━━━━━━━━━━ 0s 1ms/step - AUC: 0.9990 - Precision: 0.9692 - Recall: 0.9782 - accuracy: 0.9860 - loss: 0.032 ━━━━━━━━━━━━━━━━━━━━ 5s 1ms/step - AUC: 0.9990 - Precision: 0.9692 - Recall: 0.9782 - accuracy: 0.9860 - loss: 0.0321 - val_AUC: 0.0000e+00 - val_Precision: 1.0000 - val_Recall: 0.9960 - val_accuracy: 0.9960 - val_loss: 0.0165\n",
      "4399/4399 ━━━━━━━━━━━━━━━━━━━━ 2:51 39ms/ste ━━━━━━━━━━━━━━━━━━━━ 2s 599us/ste ━━━━━━━━━━━━━━━━━━━━ 2s 591us/st ━━━━━━━━━━━━━━━━━━━━ 2s 590us/st ━━━━━━━━━━━━━━━━━━━━ 2s 584us/st ━━━━━━━━━━━━━━━━━━━━ 2s 586us/st ━━━━━━━━━━━━━━━━━━━━ 2s 583us/st ━━━━━━━━━━━━━━━━━━━━ 2s 586us/st ━━━━━━━━━━━━━━━━━━━━ 2s 586us/st ━━━━━━━━━━━━━━━━━━━━ 2s 587us/st ━━━━━━━━━━━━━━━━━━━━ 2s 595us/st ━━━━━━━━━━━━━━━━━━━━ 2s 599us/st ━━━━━━━━━━━━━━━━━━━━ 2s 599us/st ━━━━━━━━━━━━━━━━━━━━ 1s 599us/st ━━━━━━━━━━━━━━━━━━━━ 1s 600us/st ━━━━━━━━━━━━━━━━━━━━ 1s 602us/st ━━━━━━━━━━━━━━━━━━━━ 1s 603us/st ━━━━━━━━━━━━━━━━━━━━ 1s 604us/st ━━━━━━━━━━━━━━━━━━━━ 1s 605us/st ━━━━━━━━━━━━━━━━━━━━ 1s 609us/st ━━━━━━━━━━━━━━━━━━━━ 1s 614us/st ━━━━━━━━━━━━━━━━━━━━ 1s 616us/st ━━━━━━━━━━━━━━━━━━━━ 1s 619us/st ━━━━━━━━━━━━━━━━━━━━ 1s 618us/st ━━━━━━━━━━━━━━━━━━━━ 1s 619us/st ━━━━━━━━━━━━━━━━━━━━ 1s 620us/st ━━━━━━━━━━━━━━━━━━━━ 1s 618us/st ━━━━━━━━━━━━━━━━━━━━ 1s 617us/st ━━━━━━━━━━━━━━━━━━━━ 1s 616us/st ━━━━━━━━━━━━━━━━━━━━ 1s 615us/st ━━━━━━━━━━━━━━━━━━━━ 1s 615us/st ━━━━━━━━━━━━━━━━━━━━ 1s 614us/st ━━━━━━━━━━━━━━━━━━━━ 1s 615us/st ━━━━━━━━━━━━━━━━━━━━ 1s 617us/st ━━━━━━━━━━━━━━━━━━━━ 0s 616us/st ━━━━━━━━━━━━━━━━━━━━ 0s 616us/st ━━━━━━━━━━━━━━━━━━━━ 0s 616us/st ━━━━━━━━━━━━━━━━━━━━ 0s 615us/st ━━━━━━━━━━━━━━━━━━━━ 0s 614us/st ━━━━━━━━━━━━━━━━━━━━ 0s 615us/st ━━━━━━━━━━━━━━━━━━━━ 0s 614us/st ━━━━━━━━━━━━━━━━━━━━ 0s 614us/st ━━━━━━━━━━━━━━━━━━━━ 0s 613us/st ━━━━━━━━━━━━━━━━━━━━ 0s 615us/st ━━━━━━━━━━━━━━━━━━━━ 0s 616us/st ━━━━━━━━━━━━━━━━━━━━ 0s 615us/st ━━━━━━━━━━━━━━━━━━━━ 0s 615us/st ━━━━━━━━━━━━━━━━━━━━ 0s 615us/st ━━━━━━━━━━━━━━━━━━━━ 0s 614us/st ━━━━━━━━━━━━━━━━━━━━ 0s 614us/st ━━━━━━━━━━━━━━━━━━━━ 0s 614us/st ━━━━━━━━━━━━━━━━━━━━ 0s 613us/st ━━━━━━━━━━━━━━━━━━━━ 0s 613us/st ━━━━━━━━━━━━━━━━━━━━ 0s 613us/st ━━━━━━━━━━━━━━━━━━━━ 3s 623us/step\n",
      "Training AUROC: 0.9993\n",
      "False Positives: 1517\n",
      "Training Accuracy: 0.9876\n",
      "Training Precision: 0.9690\n",
      "Training Recall: 0.9952\n"
     ]
    }
   ],
   "source": [
    "import pandas as pd\n",
    "import numpy as np\n",
    "import pickle\n",
    "import tensorflow as tf\n",
    "from tensorflow.keras import layers\n",
    "from sklearn.preprocessing import MinMaxScaler\n",
    "from sklearn.metrics import roc_auc_score, confusion_matrix, accuracy_score, precision_score, recall_score\n",
    "\n",
    "# Paths to data directories\n",
    "benign_path = './../flows/train/benign'\n",
    "malicious_path = './../flows/train/malicious'\n",
    "\n",
    "# Read data\n",
    "benign_df = pd.read_parquet(benign_path)\n",
    "malicious_df = pd.read_parquet(malicious_path)\n",
    "\n",
    "# Label the data\n",
    "benign_df['label'] = 0  # BENIGN\n",
    "malicious_df['label'] = 1  # MALICIOUS\n",
    "\n",
    "# Combine datasets\n",
    "combined_df = pd.concat([benign_df, malicious_df], ignore_index=True)\n",
    "\n",
    "# Filter out flows where packets_count is less than 3\n",
    "combined_df = combined_df[combined_df['packets_count'] >= 3]\n",
    "\n",
    "# Save feature types only\n",
    "feature_types = combined_df.drop(['label'], axis=1).dtypes.apply(lambda x: x.name).to_dict()\n",
    "with open('./../artifacts/feature_types.txt', 'w') as f:\n",
    "    for name, dtype in feature_types.items():\n",
    "        f.write(f\"{name}: {dtype}\\n\")\n",
    "\n",
    "# Separate features and labels\n",
    "labels = combined_df['label'].values\n",
    "features_df = combined_df.drop(['label'], axis=1)\n",
    "\n",
    "# Convert DataFrame to numpy array using flows_df_to_np\n",
    "features, metas = flows_df_to_np(features_df)\n",
    "\n",
    "# Apply Min-Max scaling\n",
    "scaler = MinMaxScaler()\n",
    "scaled_features = scaler.fit_transform(features)\n",
    "\n",
    "# Save the scaler\n",
    "with open('./../artifacts/scaler.pkl', 'wb') as f:\n",
    "    pickle.dump(scaler, f)\n",
    "\n",
    "# Prepare TensorFlow dataset\n",
    "train_features = scaled_features\n",
    "train_labels = labels\n",
    "train_meta = metas  # Auxiliary meta data\n",
    "\n",
    "# Build the neural network model\n",
    "dnn = tf.keras.Sequential([\n",
    "    layers.Dense(24, activation='relu', input_shape=(train_features.shape[-1],)),\n",
    "    layers.Dense(24, activation='relu'),\n",
    "    layers.Dense(24, activation='relu'),\n",
    "    layers.Dense(units=1, activation='sigmoid')\n",
    "])\n",
    "\n",
    "# Add additional metrics\n",
    "dnn.compile(loss='binary_crossentropy', optimizer='adam', metrics=['accuracy', 'AUC', 'Precision', 'Recall'])\n",
    "\n",
    "# Train the model with validation split\n",
    "epochs = 5\n",
    "history = dnn.fit(\n",
    "    train_features, train_labels,\n",
    "    validation_split=0.1,  # Using validation split during training\n",
    "    epochs=epochs,\n",
    "    verbose=1\n",
    ")\n",
    "\n",
    "# Save the model in .keras format\n",
    "dnn.save('./../artifacts/model.keras')\n",
    "\n",
    "# Load the model before evaluation\n",
    "dnn = tf.keras.models.load_model('./../artifacts/model.keras')\n",
    "\n",
    "# Evaluate on the training data\n",
    "y_pred_prob = dnn.predict(train_features).ravel()\n",
    "y_pred = (y_pred_prob >= 0.5).astype(int)\n",
    "\n",
    "# Calculate AUROC\n",
    "auroc = roc_auc_score(train_labels, y_pred_prob)\n",
    "print(f\"Training AUROC: {auroc:.4f}\")\n",
    "\n",
    "# Calculate False Positives\n",
    "cm = confusion_matrix(train_labels, y_pred)\n",
    "tn, fp, fn, tp = cm.ravel()\n",
    "false_positives = fp\n",
    "print(f\"False Positives: {false_positives}\")\n",
    "\n",
    "# Calculate Accuracy\n",
    "accuracy = accuracy_score(train_labels, y_pred)\n",
    "print(f\"Training Accuracy: {accuracy:.4f}\")\n",
    "\n",
    "# Calculate Precision and Recall\n",
    "precision = precision_score(train_labels, y_pred)\n",
    "recall = recall_score(train_labels, y_pred)\n",
    "print(f\"Training Precision: {precision:.4f}\")\n",
    "print(f\"Training Recall: {recall:.4f}\")\n"
   ]
  },
  {
   "cell_type": "code",
   "execution_count": 26,
   "metadata": {},
   "outputs": [
    {
     "data": {
      "text/plain": [
       "140743"
      ]
     },
     "execution_count": 26,
     "metadata": {},
     "output_type": "execute_result"
    }
   ],
   "source": [
    "len(train_features)"
   ]
  },
  {
   "cell_type": "code",
   "execution_count": 25,
   "metadata": {},
   "outputs": [
    {
     "name": "stdout",
     "output_type": "stream",
     "text": [
      "{'id': '192.168.4.118-125.6.164.51-4922-80-6', 'timestamp': np.float64(1276388681.408579), 'src_ip': '192.168.4.118', 'dst_ip': '125.6.164.51', 'src_port': np.int64(4922), 'dst_port': np.int64(80), 'protocol': np.int64(6), 'termination_reason': 'FIN', 'label': np.int64(0)}\n",
      "{'id': '192.168.1.105-192.168.5.122-18539-110-6', 'timestamp': np.float64(1276351088.564463), 'src_ip': '192.168.1.105', 'dst_ip': '192.168.5.122', 'src_port': np.int64(18539), 'dst_port': np.int64(110), 'protocol': np.int64(6), 'termination_reason': 'FIN', 'label': np.int64(1)}\n",
      "MALICIOUS - Prediction: 1, Probability: 0.9934\n",
      "BENIGN - Prediction: 0, Probability: 0.0002\n"
     ]
    }
   ],
   "source": [
    "# Example usage\n",
    "malicious_flow = malicious_df.iloc[0]\n",
    "malicious_flow_features, malicious_flow_meta = flow_to_np(malicious_flow)\n",
    "\n",
    "benign_flow = benign_df.iloc[0]\n",
    "benign_flow_features, benign_flow_meta = flow_to_np(benign_flow)\n",
    "\n",
    "print(benign_flow_meta)\n",
    "print(malicious_flow_meta)\n",
    "\n",
    "# import from flow_analysis.py\n",
    "\n",
    "# Example usage\n",
    "prediction, prediction_prob = classify_single_flow(malicious_flow_features, dnn, scaler)\n",
    "print(f\"MALICIOUS - Prediction: {prediction}, Probability: {prediction_prob:.4f}\")\n",
    "\n",
    "prediction, prediction_prob = classify_single_flow(benign_flow_features, dnn, scaler)\n",
    "print(f\"BENIGN - Prediction: {prediction}, Probability: {prediction_prob:.4f}\")"
   ]
  }
 ],
 "metadata": {
  "kernelspec": {
   "display_name": "net-watcher",
   "language": "python",
   "name": "python3"
  },
  "language_info": {
   "codemirror_mode": {
    "name": "ipython",
    "version": 3
   },
   "file_extension": ".py",
   "mimetype": "text/x-python",
   "name": "python",
   "nbconvert_exporter": "python",
   "pygments_lexer": "ipython3",
   "version": "3.11.1"
  }
 },
 "nbformat": 4,
 "nbformat_minor": 2
}
