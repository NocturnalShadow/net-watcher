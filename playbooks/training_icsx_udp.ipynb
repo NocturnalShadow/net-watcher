{
 "cells": [
  {
   "cell_type": "code",
   "execution_count": 9,
   "metadata": {},
   "outputs": [],
   "source": [
    "import sys\n",
    "import os\n",
    "import time\n",
    "import pickle\n",
    "import glob\n",
    "\n",
    "import pandas as pd\n",
    "import numpy as np\n",
    "\n",
    "import tensorflow as tf\n",
    "from tensorflow.keras import layers\n",
    "\n",
    "import matplotlib.pyplot as plt\n",
    "\n",
    "from sklearn.preprocessing import MinMaxScaler\n",
    "from sklearn.metrics import roc_auc_score, confusion_matrix, accuracy_score, precision_score, recall_score, f1_score\n",
    "\n",
    "src_path = os.path.abspath(os.path.join(os.getcwd(), '..', 'src'))\n",
    "if src_path not in sys.path:\n",
    "    sys.path.append(src_path)\n",
    "\n",
    "from flow_features import *\n",
    "from flow_analysis import *\n",
    "\n",
    "from sklearn.linear_model import LogisticRegression\n",
    "from sklearn.preprocessing import MinMaxScaler\n",
    "from sklearn.tree import DecisionTreeClassifier\n",
    "from sklearn.ensemble import RandomForestClassifier\n",
    "from sklearn.decomposition import PCA\n",
    "from sklearn.svm import SVC\n"
   ]
  },
  {
   "cell_type": "code",
   "execution_count": 10,
   "metadata": {},
   "outputs": [],
   "source": [
    "def prepare_data(flows_path):\n",
    "    # TODO: extract malicious flows metadata by reading directory names in flows_path\n",
    "     \n",
    "    # Read data\n",
    "    benign_df = pd.read_parquet(f'{flows_path}/benign')\n",
    "    malicious_df = pd.read_parquet(f'{flows_path}/malicious')\n",
    "\n",
    "    # Label the data\n",
    "    benign_df['label'] = 0  # BENIGN\n",
    "    malicious_df['label'] = 1  # MALICIOUS\n",
    "\n",
    "    # Combine datasets\n",
    "    combined_df = pd.concat([benign_df, malicious_df], ignore_index=True)\n",
    "\n",
    "    # Filter out flows where packets_count is less than 3\n",
    "    combined_df = combined_df[combined_df['packets_count'] >= 3]\n",
    "\n",
    "    # Separate features and labels\n",
    "    labels = combined_df['label'].values\n",
    "    features_df = combined_df.drop(['label'], axis=1)\n",
    "\n",
    "    # Convert DataFrame to numpy array using flows_df_to_np\n",
    "    features, metas = flows_df_to_np(features_df)\n",
    "    \n",
    "    return features, labels, metas"
   ]
  },
  {
   "cell_type": "code",
   "execution_count": 11,
   "metadata": {},
   "outputs": [
    {
     "name": "stdout",
     "output_type": "stream",
     "text": [
      "Preparing data for dataset: icsx-botnet-2014\n",
      "Train features shape: (22626, 36)\n",
      "Test features shape: (27057, 36)\n",
      "Training:\n",
      "    # malicious flows: 5653 (24.98%)\n",
      "    # benign flows: 16973 (75.02%)\n",
      "Testing:\n",
      "    # malicious flows: 6984 (25.81%)\n",
      "    # benign flows: 20073 (74.19%)\n"
     ]
    },
    {
     "data": {
      "text/plain": [
       "(36, 12)"
      ]
     },
     "execution_count": 11,
     "metadata": {},
     "output_type": "execute_result"
    }
   ],
   "source": [
    "dataset = \"icsx-botnet-2014\"\n",
    "print (f\"Preparing data for dataset: {dataset}\")\n",
    "\n",
    "# Prepare data\n",
    "train_features, train_labels, train_meta = prepare_data(f'./../flows_udp/train/{dataset}')\n",
    "test_features, test_labels, test_meta = prepare_data(f'./../flows_udp/test/{dataset}')\n",
    "\n",
    "# Print the shape of the data\n",
    "print(f\"Train features shape: {train_features.shape}\")\n",
    "print(f\"Test features shape: {test_features.shape}\")\n",
    "\n",
    "train_malicious_count = len(train_labels[train_labels == 1])\n",
    "train_benign_count = len(train_labels[train_labels == 0])\n",
    "test_malicious_count = len(test_labels[test_labels == 1])\n",
    "test_benign_count = len(test_labels[test_labels == 0])\n",
    "\n",
    "# Print number of malicious flows in train and test sets\n",
    "print(\"Training:\")\n",
    "print(f\"    # malicious flows: {train_malicious_count} ({train_malicious_count / len(train_labels) * 100:.2f}%)\")\n",
    "print(f\"    # benign flows: {train_benign_count} ({train_benign_count / len(train_labels) * 100:.2f}%)\")\n",
    "\n",
    "print(\"Testing:\")\n",
    "print(f\"    # malicious flows: {test_malicious_count} ({test_malicious_count / len(test_labels) * 100:.2f}%)\")\n",
    "print(f\"    # benign flows: {test_benign_count} ({test_benign_count / len(test_labels) * 100:.2f}%)\")\n",
    "\n",
    "# Fit Min-Max scaling\n",
    "scaler = MinMaxScaler(feature_range=(0,1)).fit(train_features)\n",
    "\n",
    "os.makedirs(f'./../artifacts_udp/{dataset}', exist_ok=True)\n",
    "with open(f'./../artifacts_udp/{dataset}/scaler.pkl', 'wb') as f:\n",
    "    pickle.dump(scaler, f)\n",
    "\n",
    "train_features = scaler.transform(train_features)\n",
    "test_features = scaler.transform(test_features)\n",
    "\n",
    "pca_12 = PCA(n_components=12).fit(train_features)\n",
    "os.makedirs(f'./../artifacts_udp/{dataset}', exist_ok=True)\n",
    "with open(f'./../artifacts_udp/{dataset}/pca_12.pkl', 'wb') as f:\n",
    "    pickle.dump(pca_12, f)\n",
    "\n",
    "# pca_16 = PCA(n_components=16).fit(train_features)\n",
    "# os.makedirs(f'./../artifacts_udp/{dataset}', exist_ok=True)\n",
    "# with open(f'./../artifacts_udp/{dataset}/pca_16.pkl', 'wb') as f:\n",
    "#     pickle.dump(pca_16, f)\n",
    "\n",
    "train_features_pca_12 = pca_12.transform(train_features)\n",
    "test_features_pca_12 = pca_12.transform(test_features)\n",
    "\n",
    "# train_features_pca_16 = pca_16.transform(train_features)\n",
    "# test_features_pca_16 = pca_16.transform(test_features)\n",
    "\n",
    "train_features.shape[1], train_features_pca_12.shape[1] #, train_features_pca_16.shape[1]"
   ]
  },
  {
   "cell_type": "code",
   "execution_count": 12,
   "metadata": {},
   "outputs": [
    {
     "name": "stdout",
     "output_type": "stream",
     "text": [
      "Epoch 1/3\n",
      "566/566 ━━━━━━━━━━━━━━━━━━━━ 5:07 544ms/step - AUC: 0.5000 - Precision: 0.0000e+00 - Recall: 0.0000e+00 - accuracy: 0.9688 - loss: 0.676 ━━━━━━━━━━━━━━━━━━━━ 0s 554us/step - AUC: 0.5683 - Precision: 0.0000e+00 - Recall: 0.0000e+00 - accuracy: 0.9396 - loss: 0.5435  ━━━━━━━━━━━━━━━━━━━━ 0s 507us/step - AUC: 0.5757 - Precision: 0.0000e+00 - Recall: 0.0000e+00 - accuracy: 0.9387 - loss: 0.432 ━━━━━━━━━━━━━━━━━━━━ 0s 512us/step - AUC: 0.6044 - Precision: 0.0000e+00 - Recall: 0.0000e+00 - accuracy: 0.9379 - loss: 0.382 ━━━━━━━━━━━━━━━━━━━━ 0s 506us/step - AUC: 0.6329 - Precision: 0.0000e+00 - Recall: 0.0000e+00 - accuracy: 0.9377 - loss: 0.348 ━━━━━━━━━━━━━━━━━━━━ 0s 511us/step - AUC: 0.6546 - Precision: 0.0000e+00 - Recall: 0.0000e+00 - accuracy: 0.9378 - loss: 0.326 ━━━━━━━━━━━━━━━━━━━━ 1s 927us/step - AUC: 0.6682 - Precision: 0.0000e+00 - Recall: 0.0000e+00 - accuracy: 0.9379 - loss: 0.3132 - val_AUC: 0.0000e+00 - val_Precision: 0.0000e+00 - val_Recall: 0.0000e+00 - val_accuracy: 0.0000e+00 - val_loss: 1.7673\n",
      "Epoch 2/3\n",
      "566/566 ━━━━━━━━━━━━━━━━━━━━ 8s 15ms/step - AUC: 0.8046 - Precision: 0.0000e+00 - Recall: 0.0000e+00 - accuracy: 0.9062 - loss: 0.23 ━━━━━━━━━━━━━━━━━━━━ 0s 538us/step - AUC: 0.8541 - Precision: 0.0000e+00 - Recall: 0.0000e+00 - accuracy: 0.9435 - loss: 0.158 ━━━━━━━━━━━━━━━━━━━━ 0s 500us/step - AUC: 0.8610 - Precision: 0.0000e+00 - Recall: 0.0000e+00 - accuracy: 0.9404 - loss: 0.162 ━━━━━━━━━━━━━━━━━━━━ 0s 481us/step - AUC: 0.8629 - Precision: 0.0000e+00 - Recall: 0.0000e+00 - accuracy: 0.9395 - loss: 0.163 ━━━━━━━━━━━━━━━━━━━━ 0s 471us/step - AUC: 0.8643 - Precision: 0.0000e+00 - Recall: 0.0000e+00 - accuracy: 0.9389 - loss: 0.163 ━━━━━━━━━━━━━━━━━━━━ 0s 472us/step - AUC: 0.8656 - Precision: 0.0000e+00 - Recall: 0.0000e+00 - accuracy: 0.9384 - loss: 0.164 ━━━━━━━━━━━━━━━━━━━━ 0s 630us/step - AUC: 0.8660 - Precision: 0.0000e+00 - Recall: 0.0000e+00 - accuracy: 0.9383 - loss: 0.1639 - val_AUC: 0.0000e+00 - val_Precision: 0.0000e+00 - val_Recall: 0.0000e+00 - val_accuracy: 0.0000e+00 - val_loss: 2.1103\n",
      "Epoch 3/3\n",
      "566/566 ━━━━━━━━━━━━━━━━━━━━ 8s 15ms/step - AUC: 1.0000 - Precision: 0.0000e+00 - Recall: 0.0000e+00 - accuracy: 0.9688 - loss: 0.09 ━━━━━━━━━━━━━━━━━━━━ 0s 463us/step - AUC: 0.8852 - Precision: 0.0000e+00 - Recall: 0.0000e+00 - accuracy: 0.9421 - loss: 0.149 ━━━━━━━━━━━━━━━━━━━━ 0s 468us/step - AUC: 0.8841 - Precision: 0.0876 - Recall: 2.2414e-04 - accuracy: 0.9419 - loss: 0.1506    ━━━━━━━━━━━━━━━━━━━━ 0s 465us/step - AUC: 0.8839 - Precision: 0.3963 - Recall: 0.0021 - accuracy: 0.9411 - loss: 0.1521    ━━━━━━━━━━━━━━━━━━━━ 0s 463us/step - AUC: 0.8831 - Precision: 0.5490 - Recall: 0.0030 - accuracy: 0.9404 - loss: 0.153 ━━━━━━━━━━━━━━━━━━━━ 0s 467us/step - AUC: 0.8824 - Precision: 0.6354 - Recall: 0.0036 - accuracy: 0.9400 - loss: 0.154 ━━━━━━━━━━━━━━━━━━━━ 0s 632us/step - AUC: 0.8823 - Precision: 0.6508 - Recall: 0.0037 - accuracy: 0.9399 - loss: 0.1546 - val_AUC: 0.0000e+00 - val_Precision: 1.0000 - val_Recall: 0.0122 - val_accuracy: 0.0122 - val_loss: 1.6278\n",
      "Epoch 1/3\n",
      "566/566 ━━━━━━━━━━━━━━━━━━━━ 5:09 548ms/step - AUC: 0.0000e+00 - Precision: 0.0000e+00 - Recall: 0.0000e+00 - accuracy: 1.0000 - loss: 0.656 ━━━━━━━━━━━━━━━━━━━━ 0s 573us/step - AUC: 0.5456 - Precision: 0.0000e+00 - Recall: 0.0000e+00 - accuracy: 0.9424 - loss: 0.5245      ━━━━━━━━━━━━━━━━━━━━ 0s 526us/step - AUC: 0.5597 - Precision: 0.0000e+00 - Recall: 0.0000e+00 - accuracy: 0.9402 - loss: 0.421 ━━━━━━━━━━━━━━━━━━━━ 0s 494us/step - AUC: 0.5985 - Precision: 0.0000e+00 - Recall: 0.0000e+00 - accuracy: 0.9392 - loss: 0.365 ━━━━━━━━━━━━━━━━━━━━ 0s 482us/step - AUC: 0.6293 - Precision: 0.0000e+00 - Recall: 0.0000e+00 - accuracy: 0.9388 - loss: 0.333 ━━━━━━━━━━━━━━━━━━━━ 0s 477us/step - AUC: 0.6528 - Precision: 0.0000e+00 - Recall: 0.0000e+00 - accuracy: 0.9386 - loss: 0.311 ━━━━━━━━━━━━━━━━━━━━ 1s 901us/step - AUC: 0.6592 - Precision: 0.0000e+00 - Recall: 0.0000e+00 - accuracy: 0.9386 - loss: 0.3062 - val_AUC: 0.0000e+00 - val_Precision: 0.0000e+00 - val_Recall: 0.0000e+00 - val_accuracy: 0.0000e+00 - val_loss: 2.1146\n",
      "Epoch 2/3\n",
      "566/566 ━━━━━━━━━━━━━━━━━━━━ 8s 15ms/step - AUC: 0.7258 - Precision: 0.0000e+00 - Recall: 0.0000e+00 - accuracy: 0.9688 - loss: 0.12 ━━━━━━━━━━━━━━━━━━━━ 0s 495us/step - AUC: 0.8546 - Precision: 0.0000e+00 - Recall: 0.0000e+00 - accuracy: 0.9495 - loss: 0.150 ━━━━━━━━━━━━━━━━━━━━ 0s 481us/step - AUC: 0.8582 - Precision: 0.0000e+00 - Recall: 0.0000e+00 - accuracy: 0.9434 - loss: 0.161 ━━━━━━━━━━━━━━━━━━━━ 0s 494us/step - AUC: 0.8586 - Precision: 0.0000e+00 - Recall: 0.0000e+00 - accuracy: 0.9413 - loss: 0.164 ━━━━━━━━━━━━━━━━━━━━ 0s 506us/step - AUC: 0.8589 - Precision: 0.0647 - Recall: 8.2969e-05 - accuracy: 0.9404 - loss: 0.1664    ━━━━━━━━━━━━━━━━━━━━ 0s 506us/step - AUC: 0.8593 - Precision: 0.2525 - Recall: 5.2420e-04 - accuracy: 0.9400 - loss: 0.166 ━━━━━━━━━━━━━━━━━━━━ 0s 692us/step - AUC: 0.8595 - Precision: 0.3310 - Recall: 0.0016 - accuracy: 0.9398 - loss: 0.1671 - val_AUC: 0.0000e+00 - val_Precision: 0.0000e+00 - val_Recall: 0.0000e+00 - val_accuracy: 0.0000e+00 - val_loss: 1.9029\n",
      "Epoch 3/3\n",
      "566/566 ━━━━━━━━━━━━━━━━━━━━ 8s 15ms/step - AUC: 0.9080 - Precision: 0.0000e+00 - Recall: 0.0000e+00 - accuracy: 0.9062 - loss: 0.19 ━━━━━━━━━━━━━━━━━━━━ 0s 500us/step - AUC: 0.8668 - Precision: 0.8927 - Recall: 0.0430 - accuracy: 0.9326 - loss: 0.1789       ━━━━━━━━━━━━━━━━━━━━ 0s 488us/step - AUC: 0.8703 - Precision: 0.8791 - Recall: 0.0556 - accuracy: 0.9363 - loss: 0.172 ━━━━━━━━━━━━━━━━━━━━ 0s 476us/step - AUC: 0.8706 - Precision: 0.8697 - Recall: 0.0637 - accuracy: 0.9372 - loss: 0.171 ━━━━━━━━━━━━━━━━━━━━ 0s 472us/step - AUC: 0.8705 - Precision: 0.8608 - Recall: 0.0666 - accuracy: 0.9378 - loss: 0.169 ━━━━━━━━━━━━━━━━━━━━ 0s 472us/step - AUC: 0.8705 - Precision: 0.8550 - Recall: 0.0667 - accuracy: 0.9383 - loss: 0.168 ━━━━━━━━━━━━━━━━━━━━ 0s 625us/step - AUC: 0.8704 - Precision: 0.8543 - Recall: 0.0667 - accuracy: 0.9384 - loss: 0.1686 - val_AUC: 0.0000e+00 - val_Precision: 0.0000e+00 - val_Recall: 0.0000e+00 - val_accuracy: 0.0000e+00 - val_loss: 2.3124\n"
     ]
    }
   ],
   "source": [
    "model_name = \"dnn_24_24_24.keras\"\n",
    "epochs = 3\n",
    "\n",
    "# Build the neural network model\n",
    "dnn = tf.keras.Sequential([\n",
    "    tf.keras.Input(shape=(train_features.shape[-1],)),\n",
    "    layers.Dense(24, activation='relu'),\n",
    "    layers.Dense(24, activation='relu'),\n",
    "    layers.Dense(24, activation='relu'),\n",
    "    layers.Dense(units=1, activation='sigmoid')\n",
    "])\n",
    "\n",
    "dnn.compile(loss='binary_crossentropy', optimizer='adam', metrics=['accuracy', 'AUC', 'Precision', 'Recall'])\n",
    "history = dnn.fit(\n",
    "    train_features, train_labels,\n",
    "    validation_split=0.2,  \n",
    "    epochs=epochs,\n",
    "    verbose=1\n",
    ")\n",
    "\n",
    "dnn.save(f'./../artifacts_udp/{dataset}/{model_name}')\n",
    "\n",
    "dnn_pca_12 = tf.keras.Sequential([\n",
    "    tf.keras.Input(shape=(train_features_pca_12.shape[-1],)),\n",
    "    layers.Dense(24, activation='relu'),\n",
    "    layers.Dense(24, activation='relu'),\n",
    "    layers.Dense(24, activation='relu'),\n",
    "    layers.Dense(units=1, activation='sigmoid')\n",
    "])\n",
    "\n",
    "dnn_pca_12.compile(loss='binary_crossentropy', optimizer='adam', metrics=['accuracy', 'AUC', 'Precision', 'Recall'])\n",
    "history = dnn_pca_12.fit(\n",
    "    train_features_pca_12, train_labels,\n",
    "    validation_split=0.2,\n",
    "    epochs=epochs,\n",
    "    verbose=1\n",
    ")\n",
    "\n",
    "dnn_pca_12.save(f'./../artifacts_udp/{dataset}/pca_12_{model_name}')"
   ]
  },
  {
   "cell_type": "code",
   "execution_count": 13,
   "metadata": {},
   "outputs": [
    {
     "name": "stdout",
     "output_type": "stream",
     "text": [
      "DNN (24x24x24): AUROC 0.5995127342759067\n",
      "PCA (12) + DNN (24x24x24): AUROC 0.541264547631386\n"
     ]
    }
   ],
   "source": [
    "print(\"DNN (24x24x24): AUROC \" + str(roc_auc_score(test_labels, dnn.predict(test_features, verbose=0))))\n",
    "print(\"PCA (12) + DNN (24x24x24): AUROC \" + str(roc_auc_score(test_labels, dnn_pca_12.predict(test_features_pca_12, verbose=0))))"
   ]
  },
  {
   "cell_type": "code",
   "execution_count": 14,
   "metadata": {},
   "outputs": [
    {
     "name": "stderr",
     "output_type": "stream",
     "text": [
      "c:\\Users\\Wind\\github\\net-watcher\\venv\\Lib\\site-packages\\keras\\src\\layers\\core\\dense.py:93: UserWarning: Do not pass an `input_shape`/`input_dim` argument to a layer. When using Sequential models, prefer using an `Input(shape)` object as the first layer in the model instead.\n",
      "  super().__init__(activity_regularizer=activity_regularizer, **kwargs)\n"
     ]
    },
    {
     "name": "stdout",
     "output_type": "stream",
     "text": [
      "Epoch 1/3\n",
      "566/566 ━━━━━━━━━━━━━━━━━━━━ 5:09 547ms/step - AUC: 0.1782 - Precision: 0.0968 - Recall: 1.0000 - accuracy: 0.1250 - loss: 0.741 ━━━━━━━━━━━━━━━━━━━━ 0s 538us/step - AUC: 0.4540 - Precision: 0.0587 - Recall: 0.2324 - accuracy: 0.6834 - loss: 0.6452  ━━━━━━━━━━━━━━━━━━━━ 0s 500us/step - AUC: 0.4900 - Precision: 0.0564 - Recall: 0.1377 - accuracy: 0.7887 - loss: 0.531 ━━━━━━━━━━━━━━━━━━━━ 0s 489us/step - AUC: 0.5215 - Precision: 0.0557 - Recall: 0.1008 - accuracy: 0.8284 - loss: 0.465 ━━━━━━━━━━━━━━━━━━━━ 0s 484us/step - AUC: 0.5517 - Precision: 0.0554 - Recall: 0.0805 - accuracy: 0.8507 - loss: 0.421 ━━━━━━━━━━━━━━━━━━━━ 0s 481us/step - AUC: 0.5779 - Precision: 0.0552 - Recall: 0.0675 - accuracy: 0.8646 - loss: 0.391 ━━━━━━━━━━━━━━━━━━━━ 1s 887us/step - AUC: 0.5872 - Precision: 0.0551 - Recall: 0.0636 - accuracy: 0.8689 - loss: 0.3817 - val_AUC: 0.0000e+00 - val_Precision: 0.0000e+00 - val_Recall: 0.0000e+00 - val_accuracy: 0.0000e+00 - val_loss: 2.4742\n",
      "Epoch 2/3\n",
      "566/566 ━━━━━━━━━━━━━━━━━━━━ 9s 16ms/step - AUC: 0.8000 - Precision: 0.0000e+00 - Recall: 0.0000e+00 - accuracy: 0.9375 - loss: 0.19 ━━━━━━━━━━━━━━━━━━━━ 0s 481us/step - AUC: 0.8482 - Precision: 0.0000e+00 - Recall: 0.0000e+00 - accuracy: 0.9406 - loss: 0.177 ━━━━━━━━━━━━━━━━━━━━ 0s 479us/step - AUC: 0.8505 - Precision: 0.0000e+00 - Recall: 0.0000e+00 - accuracy: 0.9401 - loss: 0.177 ━━━━━━━━━━━━━━━━━━━━ 0s 478us/step - AUC: 0.8536 - Precision: 0.0000e+00 - Recall: 0.0000e+00 - accuracy: 0.9399 - loss: 0.176 ━━━━━━━━━━━━━━━━━━━━ 0s 477us/step - AUC: 0.8551 - Precision: 0.0000e+00 - Recall: 0.0000e+00 - accuracy: 0.9395 - loss: 0.175 ━━━━━━━━━━━━━━━━━━━━ 0s 475us/step - AUC: 0.8566 - Precision: 0.0000e+00 - Recall: 0.0000e+00 - accuracy: 0.9393 - loss: 0.175 ━━━━━━━━━━━━━━━━━━━━ 0s 642us/step - AUC: 0.8569 - Precision: 0.0000e+00 - Recall: 0.0000e+00 - accuracy: 0.9392 - loss: 0.1752 - val_AUC: 0.0000e+00 - val_Precision: 0.0000e+00 - val_Recall: 0.0000e+00 - val_accuracy: 0.0000e+00 - val_loss: 1.7488\n",
      "Epoch 3/3\n",
      "566/566 ━━━━━━━━━━━━━━━━━━━━ 9s 17ms/step - AUC: 0.8226 - Precision: 0.0000e+00 - Recall: 0.0000e+00 - accuracy: 0.9688 - loss: 0.11 ━━━━━━━━━━━━━━━━━━━━ 0s 560us/step - AUC: 0.8569 - Precision: 0.0000e+00 - Recall: 0.0000e+00 - accuracy: 0.9494 - loss: 0.145 ━━━━━━━━━━━━━━━━━━━━ 0s 573us/step - AUC: 0.8600 - Precision: 0.0000e+00 - Recall: 0.0000e+00 - accuracy: 0.9452 - loss: 0.152 ━━━━━━━━━━━━━━━━━━━━ 0s 567us/step - AUC: 0.8628 - Precision: 0.0000e+00 - Recall: 0.0000e+00 - accuracy: 0.9420 - loss: 0.158 ━━━━━━━━━━━━━━━━━━━━ 0s 555us/step - AUC: 0.8652 - Precision: 0.0000e+00 - Recall: 0.0000e+00 - accuracy: 0.9405 - loss: 0.160 ━━━━━━━━━━━━━━━━━━━━ 0s 535us/step - AUC: 0.8668 - Precision: 0.0000e+00 - Recall: 0.0000e+00 - accuracy: 0.9395 - loss: 0.161 ━━━━━━━━━━━━━━━━━━━━ 0s 678us/step - AUC: 0.8683 - Precision: 0.0000e+00 - Recall: 0.0000e+00 - accuracy: 0.9391 - loss: 0.1619 - val_AUC: 0.0000e+00 - val_Precision: 0.0000e+00 - val_Recall: 0.0000e+00 - val_accuracy: 0.0000e+00 - val_loss: 1.8442\n",
      "Epoch 1/3\n",
      "566/566 ━━━━━━━━━━━━━━━━━━━━ 7:05 754ms/step - AUC: 0.2250 - Precision: 0.0000e+00 - Recall: 0.0000e+00 - accuracy: 0.2812 - loss: 0.709 ━━━━━━━━━━━━━━━━━━━━ 0s 575us/step - AUC: 0.4042 - Precision: 0.0000e+00 - Recall: 0.0000e+00 - accuracy: 0.7939 - loss: 0.6173  ━━━━━━━━━━━━━━━━━━━━ 0s 518us/step - AUC: 0.4528 - Precision: 0.0000e+00 - Recall: 0.0000e+00 - accuracy: 0.8552 - loss: 0.509 ━━━━━━━━━━━━━━━━━━━━ 0s 487us/step - AUC: 0.4947 - Precision: 0.0000e+00 - Recall: 0.0000e+00 - accuracy: 0.8791 - loss: 0.442 ━━━━━━━━━━━━━━━━━━━━ 0s 473us/step - AUC: 0.5299 - Precision: 0.0000e+00 - Recall: 0.0000e+00 - accuracy: 0.8921 - loss: 0.400 ━━━━━━━━━━━━━━━━━━━━ 0s 469us/step - AUC: 0.5569 - Precision: 0.0000e+00 - Recall: 0.0000e+00 - accuracy: 0.8996 - loss: 0.372 ━━━━━━━━━━━━━━━━━━━━ 1s 874us/step - AUC: 0.5633 - Precision: 0.0000e+00 - Recall: 0.0000e+00 - accuracy: 0.9012 - loss: 0.3666 - val_AUC: 0.0000e+00 - val_Precision: 0.0000e+00 - val_Recall: 0.0000e+00 - val_accuracy: 0.0000e+00 - val_loss: 2.3477\n",
      "Epoch 2/3\n",
      "566/566 ━━━━━━━━━━━━━━━━━━━━ 7s 14ms/step - AUC: 0.7581 - Precision: 0.0000e+00 - Recall: 0.0000e+00 - accuracy: 0.9688 - loss: 0.13 ━━━━━━━━━━━━━━━━━━━━ 0s 463us/step - AUC: 0.8035 - Precision: 0.0000e+00 - Recall: 0.0000e+00 - accuracy: 0.9375 - loss: 0.192 ━━━━━━━━━━━━━━━━━━━━ 0s 455us/step - AUC: 0.8130 - Precision: 0.0000e+00 - Recall: 0.0000e+00 - accuracy: 0.9404 - loss: 0.184 ━━━━━━━━━━━━━━━━━━━━ 0s 451us/step - AUC: 0.8218 - Precision: 0.0000e+00 - Recall: 0.0000e+00 - accuracy: 0.9393 - loss: 0.184 ━━━━━━━━━━━━━━━━━━━━ 0s 448us/step - AUC: 0.8266 - Precision: 0.0000e+00 - Recall: 0.0000e+00 - accuracy: 0.9387 - loss: 0.184 ━━━━━━━━━━━━━━━━━━━━ 0s 448us/step - AUC: 0.8306 - Precision: 0.0000e+00 - Recall: 0.0000e+00 - accuracy: 0.9384 - loss: 0.183 ━━━━━━━━━━━━━━━━━━━━ 0s 605us/step - AUC: 0.8307 - Precision: 0.0000e+00 - Recall: 0.0000e+00 - accuracy: 0.9384 - loss: 0.1837 - val_AUC: 0.0000e+00 - val_Precision: 0.0000e+00 - val_Recall: 0.0000e+00 - val_accuracy: 0.0000e+00 - val_loss: 2.0214\n",
      "Epoch 3/3\n",
      "566/566 ━━━━━━━━━━━━━━━━━━━━ 8s 15ms/step - AUC: 0.0000e+00 - Precision: 0.0000e+00 - Recall: 0.0000e+00 - accuracy: 1.0000 - loss: 0.07 ━━━━━━━━━━━━━━━━━━━━ 0s 472us/step - AUC: 0.8616 - Precision: 0.0000e+00 - Recall: 0.0000e+00 - accuracy: 0.9405 - loss: 0.1598   ━━━━━━━━━━━━━━━━━━━━ 0s 457us/step - AUC: 0.8624 - Precision: 0.0000e+00 - Recall: 0.0000e+00 - accuracy: 0.9405 - loss: 0.160 ━━━━━━━━━━━━━━━━━━━━ 0s 481us/step - AUC: 0.8621 - Precision: 0.0000e+00 - Recall: 0.0000e+00 - accuracy: 0.9402 - loss: 0.161 ━━━━━━━━━━━━━━━━━━━━ 0s 513us/step - AUC: 0.8624 - Precision: 0.0000e+00 - Recall: 0.0000e+00 - accuracy: 0.9399 - loss: 0.162 ━━━━━━━━━━━━━━━━━━━━ 0s 510us/step - AUC: 0.8629 - Precision: 0.0000e+00 - Recall: 0.0000e+00 - accuracy: 0.9396 - loss: 0.163 ━━━━━━━━━━━━━━━━━━━━ 0s 657us/step - AUC: 0.8634 - Precision: 0.0000e+00 - Recall: 0.0000e+00 - accuracy: 0.9394 - loss: 0.1635 - val_AUC: 0.0000e+00 - val_Precision: 0.0000e+00 - val_Recall: 0.0000e+00 - val_accuracy: 0.0000e+00 - val_loss: 2.0070\n"
     ]
    }
   ],
   "source": [
    "model_name = \"dnn_16_16_16.keras\"\n",
    "epochs = 3\n",
    "\n",
    "# Build the neural network model\n",
    "dnn = tf.keras.Sequential([\n",
    "    layers.Dense(16, activation='relu', input_shape=(train_features.shape[-1],)),\n",
    "    layers.Dense(16, activation='relu'),\n",
    "    layers.Dense(16, activation='relu'),\n",
    "    layers.Dense(units=1, activation='sigmoid')\n",
    "])\n",
    "\n",
    "dnn.compile(loss='binary_crossentropy', optimizer='adam', metrics=['accuracy', 'AUC', 'Precision', 'Recall'])\n",
    "history = dnn.fit(\n",
    "    train_features, train_labels,\n",
    "    validation_split=0.2,  \n",
    "    epochs=epochs,\n",
    "    verbose=1\n",
    ")\n",
    "\n",
    "dnn_pca_12 = tf.keras.Sequential([\n",
    "    tf.keras.Input(shape=(train_features_pca_12.shape[-1],)),\n",
    "    layers.Dense(16, activation='relu'),\n",
    "    layers.Dense(16, activation='relu'),\n",
    "    layers.Dense(16, activation='relu'),\n",
    "    layers.Dense(units=1, activation='sigmoid')\n",
    "])\n",
    "\n",
    "dnn_pca_12.compile(loss='binary_crossentropy', optimizer='adam', metrics=['accuracy', 'AUC', 'Precision', 'Recall'])\n",
    "history = dnn_pca_12.fit(\n",
    "    train_features_pca_12, train_labels,\n",
    "    validation_split=0.2,\n",
    "    epochs=epochs,\n",
    "    verbose=1\n",
    ")\n",
    "\n",
    "dnn.save(f'./../artifacts_udp/{dataset}/{model_name}')\n",
    "dnn_pca_12.save(f'./../artifacts_udp/{dataset}/pca_12_{model_name}')"
   ]
  },
  {
   "cell_type": "code",
   "execution_count": 15,
   "metadata": {},
   "outputs": [
    {
     "name": "stdout",
     "output_type": "stream",
     "text": [
      "DNN (16x16x16): AUROC 0.5996406287154977\n",
      "PCA (12) + DNN (16x16x16): AUROC 0.5060319353260941\n"
     ]
    }
   ],
   "source": [
    "print(\"DNN (16x16x16): AUROC \" + str(roc_auc_score(test_labels, dnn.predict(test_features, verbose=0))))\n",
    "print(\"PCA (12) + DNN (16x16x16): AUROC \" + str(roc_auc_score(test_labels, dnn_pca_12.predict(test_features_pca_12, verbose=0))))"
   ]
  },
  {
   "cell_type": "code",
   "execution_count": 16,
   "metadata": {},
   "outputs": [
    {
     "name": "stdout",
     "output_type": "stream",
     "text": [
      "log_reg: R2 score 0.7274642421554496, AUROC 0.6405418012056682, Accuracy 0.7274642421554496, Precision 0.2639225181598063, Recall 0.031214203894616266, F1 0.0558258642765685\n",
      "dt_9: R2 score 0.7479025760431681, AUROC 0.5848635049366491, Accuracy 0.7479025760431681, Precision 0.5163819095477387, Recall 0.3678407789232532, F1 0.4296345848315076\n",
      "rf_9: R2 score 0.7719259341390398, AUROC 0.6432491302222261, Accuracy 0.7719259341390398, Precision 0.5946008843379101, Recall 0.365836197021764, F1 0.45297402712525486\n",
      "pca_12_log_reg, AUROC 0.6406919975480104, Accuracy 0.7274272831429944, Precision 0.26417370325693607, Recall 0.0313573883161512, F1 0.05606041213362345\n",
      "pca_12_dt_9, AUROC 0.5449782620468508, Accuracy 0.7207377018886055, Precision 0.4371152154793316, Recall 0.28465063001145474, F1 0.3447797433229275\n",
      "pca_12_rf_9, AUROC 0.4805521309134602, Accuracy 0.7313079794507891, Precision 0.46622579121398205, Recall 0.28264604810996563, F1 0.351934391157069\n"
     ]
    }
   ],
   "source": [
    "models = {\n",
    "    \"log_reg\": LogisticRegression(random_state=0, max_iter=200).fit(train_features, train_labels),\n",
    "    \"dt_9\": DecisionTreeClassifier(max_depth=9).fit(train_features, train_labels),\n",
    "    \"rf_9\": RandomForestClassifier(max_depth=9, random_state=0).fit(train_features, train_labels)\n",
    "}\n",
    "\n",
    "pca_models = {\n",
    "    \"pca_12_log_reg\": LogisticRegression(random_state=0, max_iter=200).fit(train_features_pca_12, train_labels),\n",
    "    \"pca_12_dt_9\": DecisionTreeClassifier(max_depth=9).fit(train_features_pca_12, train_labels),\n",
    "    \"pca_12_rf_9\": RandomForestClassifier(max_depth=9, random_state=0).fit(train_features_pca_12, train_labels)\n",
    "}\n",
    "\n",
    "for model_name, model in {**models, **pca_models}.items():\n",
    "    with open(f'./../artifacts_udp/{dataset}/{model_name}.pkl', 'wb') as f:\n",
    "        pickle.dump(model, f)\n",
    "\n",
    "# NOTE: predict_proba returns probabilities for both classes, so [:, 1] is needed\n",
    "for name, model in models.items():\n",
    "    print(name + \n",
    "        \": R2 score \" + str(model.score(test_features, test_labels)) + \n",
    "        \", AUROC \" + str(roc_auc_score(test_labels, model.predict_proba(test_features)[:, 1])) +\n",
    "        \", Accuracy \" + str(accuracy_score(test_labels, model.predict(test_features))) +\n",
    "        \", Precision \" + str(precision_score(test_labels, model.predict(test_features))) +\n",
    "        \", Recall \" + str(recall_score(test_labels, model.predict(test_features))) +\n",
    "        \", F1 \" + str(f1_score(test_labels, model.predict(test_features))))\n",
    "\n",
    "for name, model in pca_models.items():\n",
    "    print(name + \n",
    "        \", AUROC \" + str(roc_auc_score(test_labels, model.predict_proba(test_features_pca_12)[:, 1])) +\n",
    "        \", Accuracy \" + str(accuracy_score(test_labels, model.predict(test_features_pca_12))) +\n",
    "        \", Precision \" + str(precision_score(test_labels, model.predict(test_features_pca_12))) +\n",
    "        \", Recall \" + str(recall_score(test_labels, model.predict(test_features_pca_12))) +\n",
    "        \", F1 \" + str(f1_score(test_labels, model.predict(test_features_pca_12))))"
   ]
  }
 ],
 "metadata": {
  "kernelspec": {
   "display_name": "venv",
   "language": "python",
   "name": "python3"
  },
  "language_info": {
   "codemirror_mode": {
    "name": "ipython",
    "version": 3
   },
   "file_extension": ".py",
   "mimetype": "text/x-python",
   "name": "python",
   "nbconvert_exporter": "python",
   "pygments_lexer": "ipython3",
   "version": "3.12.9"
  }
 },
 "nbformat": 4,
 "nbformat_minor": 2
}
